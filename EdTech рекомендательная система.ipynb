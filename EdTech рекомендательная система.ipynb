{
 "cells": [
  {
   "cell_type": "markdown",
   "metadata": {},
   "source": [
    "<font size=\"6\" color=\"green\"><b>PROJECT-4.</b> Увеличение среднего чека (EdTech)</font>\n",
    "\n",
    "<font size=\"4\" color=\"green\"><b> Цель работы:  </b></font><br>\n",
    "Подготовить основу рекомендательной системы. <br><br>\n",
    "<font size=\"4\" color=\"green\"><b> Поставленная задача:  </b></font> <br>\n",
    "Продакт-менеджер онлайн-школы *MasterMind* ожидает получить от вас **рекомендательную систему**, благодаря которой можно будет предлагать клиентам интересные им курсы и тем самым повышать средний чек.\n"
   ]
  },
  {
   "cell_type": "markdown",
   "metadata": {},
   "source": [
    "<font size=\"4\" color=\"green\"><b> КОНКРЕТНЫЕ ШАГИ (ФОРМАЛИЗОВАННЫЕ ЗАДАЧИ)</b></font> <br>\n",
    "\n",
    "* Познакомиться с датасетом, подготовить и проанализировать данные с помощью SQL.\n",
    "* Обработать данные средствами Python.\n",
    "* Составить итоговую таблицу с рекомендациями (курсам будет\n",
    "соответствовать по две рекомендации), снабдив её необходимыми комментариями, и представить отчёт продакт-менеджеру."
   ]
  },
  {
   "cell_type": "markdown",
   "metadata": {},
   "source": [
    "<font size=\"4\" color=\"green\"><b> Исходные данные (PGSQL)</b></font> <br>\n",
    "Таблица **carts** — данные о пользовательских корзинах\n",
    "* Promo Code ID — ID промокода, если он есть\n",
    "* Purchased At — дата оплаты\n",
    "* User ID — ID пользователя\n",
    "* Created At — дата создания корзины\n",
    "* Updated At — дата последнего обновления информации\n",
    "* ID — идентификатор корзины\n",
    "* State — состояние оплаты\n",
    "\n",
    "Таблица **cart_items** — данные о курсах, которые пользователи добавили в корзину\n",
    "* Created At — дата создания события\n",
    "* Resource Type — тип продукта\n",
    "* Resource ID — ID курса\n",
    "* Cart ID — идентификатор корзины\n",
    "* Updated At — дата последнего обновления информации\n",
    "* ID — идентификатор операции"
   ]
  },
  {
   "cell_type": "markdown",
   "metadata": {},
   "source": [
    "## 1. Импорт библиотек"
   ]
  },
  {
   "cell_type": "code",
   "execution_count": 23,
   "metadata": {},
   "outputs": [],
   "source": [
    "import pandas as pd\n",
    "import psycopg2 \n",
    "import matplotlib.pyplot as plt\n",
    "from scipy import stats as st"
   ]
  },
  {
   "cell_type": "markdown",
   "metadata": {},
   "source": [
    "## 2. Загрузка данных из БД, определение основных размерностей данных"
   ]
  },
  {
   "cell_type": "code",
   "execution_count": 24,
   "metadata": {},
   "outputs": [],
   "source": [
    "# Запрос формирует CTE sales_data для загрузки данных о продажах курсов:\n",
    "# - ID клиента\n",
    "# - ID курса\n",
    "# - ID корзины\n",
    "# - время покупки\n",
    "\n",
    "req_sales_data = '''\n",
    "with sales_data as(\n",
    "select \n",
    "\tc.user_id,\n",
    "\tci.resource_id,\n",
    "\tc.id,\n",
    "\tc.updated_at\n",
    "from \n",
    "\tfinal.carts c \n",
    "\tjoin final.cart_items ci on c.id = ci.cart_id  \n",
    "where\n",
    "\tc.state = 'successful' and ci.resource_type = 'Course'\n",
    ")\n",
    "'''\n",
    "# имена полей для выгрузки результата запроса в датафрейм\n",
    "cols_sales_data = ['user_id','course_id','cart_id','selltime']\n",
    "\n",
    "# запрос на получение полной таблицы из CTE sales_data\n",
    "req_load = \"select * from sales_data\""
   ]
  },
  {
   "cell_type": "code",
   "execution_count": 25,
   "metadata": {},
   "outputs": [],
   "source": [
    "# функция db_req - загрузка данных из БД PostgresQL. \n",
    "# аргументы: \n",
    "#   - sql_req: строка, содержащая SQL-запрос к БД \n",
    "#   - col_names: имена столбцов для получаемого из запроса датафрейма\n",
    "# возвращаемое значение:\n",
    "#   - таблица, полученная в результате работы запроса, в формате pandas.Dataframe \n",
    "\n",
    "def db_req(sql_req, col_names):\n",
    "    # попытка подключения к базе....\n",
    "    try:\n",
    "        print('Connecting to DB...')\n",
    "        db_connection = psycopg2.connect(dbname='', \n",
    "                                         user='',\n",
    "                                         host='',\n",
    "                                         password='',\n",
    "                                         port=5432)\n",
    "        \n",
    "    except psycopg2.DatabaseError as db_err:    # обработка ошибки подключения к БД\n",
    "        print('Error:', db_err)\n",
    "        return \n",
    "    else:                                       # подключение успешно...\n",
    "        print('Connection established.')\n",
    "        # попытка обработать запрос к БД\n",
    "        try:\n",
    "            db_cursor = db_connection.cursor()\n",
    "            db_cursor.execute(sql_req)          # выполнение SQL запроса\n",
    "            \n",
    "        except psycopg2.Error as req_err:       # обработка ошибки запроса\n",
    "            print('REQ Error: ', req_err)\n",
    "            return\n",
    "        else:                                   # запрос успешен, загружаем результат в датафрейм\n",
    "            req_table = pd.DataFrame(db_cursor.fetchall(), \n",
    "                                     columns=col_names)\n",
    "            print('REQ successful.') \n",
    "        finally:\n",
    "            db_cursor.close()                   # финал обработки запроса - закрываем курсор\n",
    "            db_connection.close()               # и закрываем подключения к БД\n",
    "            print('Connection closed.') \n",
    "    return req_table"
   ]
  },
  {
   "cell_type": "code",
   "execution_count": 26,
   "metadata": {},
   "outputs": [
    {
     "name": "stdout",
     "output_type": "stream",
     "text": [
      "Connecting to DB...\n",
      "Connection established.\n"
     ]
    },
    {
     "name": "stdout",
     "output_type": "stream",
     "text": [
      "REQ successful.\n",
      "Connection closed.\n"
     ]
    }
   ],
   "source": [
    "df_sales_data = db_req(req_sales_data + req_load, cols_sales_data) # загрузка в датафрейм данных по продажам курсов"
   ]
  },
  {
   "cell_type": "markdown",
   "metadata": {},
   "source": [
    "<font size=\"4\" color=\"green\"><b>Сколько клиентов покупали курсы?</b></font>"
   ]
  },
  {
   "cell_type": "code",
   "execution_count": 27,
   "metadata": {},
   "outputs": [
    {
     "name": "stdout",
     "output_type": "stream",
     "text": [
      "Connecting to DB...\n",
      "Connection established.\n",
      "REQ successful.\n",
      "Connection closed.\n"
     ]
    },
    {
     "data": {
      "text/html": [
       "<div>\n",
       "<style scoped>\n",
       "    .dataframe tbody tr th:only-of-type {\n",
       "        vertical-align: middle;\n",
       "    }\n",
       "\n",
       "    .dataframe tbody tr th {\n",
       "        vertical-align: top;\n",
       "    }\n",
       "\n",
       "    .dataframe thead th {\n",
       "        text-align: right;\n",
       "    }\n",
       "</style>\n",
       "<table border=\"1\" class=\"dataframe\">\n",
       "  <thead>\n",
       "    <tr style=\"text-align: right;\">\n",
       "      <th></th>\n",
       "      <th>cli_count</th>\n",
       "    </tr>\n",
       "  </thead>\n",
       "  <tbody>\n",
       "    <tr>\n",
       "      <th>0</th>\n",
       "      <td>49006</td>\n",
       "    </tr>\n",
       "  </tbody>\n",
       "</table>\n",
       "</div>"
      ],
      "text/plain": [
       "   cli_count\n",
       "0      49006"
      ]
     },
     "execution_count": 27,
     "metadata": {},
     "output_type": "execute_result"
    }
   ],
   "source": [
    "# запрос получения количества клиентов из CTE sales_data\n",
    "req_cli_count = '''\n",
    "select\n",
    "\tcount(distinct user_id) \n",
    "from sales_data\n",
    "'''\n",
    "# имена полей для выгрузки результата запроса в датафрейм\n",
    "cols_cli_count = ['cli_count']\n",
    "\n",
    "db_req(req_sales_data + req_cli_count, cols_cli_count)"
   ]
  },
  {
   "cell_type": "markdown",
   "metadata": {},
   "source": [
    "<font size=\"4\" color=\"green\"><b>Сколько всего есть различных курсов?</b></font>"
   ]
  },
  {
   "cell_type": "code",
   "execution_count": 28,
   "metadata": {},
   "outputs": [
    {
     "name": "stdout",
     "output_type": "stream",
     "text": [
      "Connecting to DB...\n",
      "Connection established.\n",
      "REQ successful.\n",
      "Connection closed.\n"
     ]
    },
    {
     "data": {
      "text/html": [
       "<div>\n",
       "<style scoped>\n",
       "    .dataframe tbody tr th:only-of-type {\n",
       "        vertical-align: middle;\n",
       "    }\n",
       "\n",
       "    .dataframe tbody tr th {\n",
       "        vertical-align: top;\n",
       "    }\n",
       "\n",
       "    .dataframe thead th {\n",
       "        text-align: right;\n",
       "    }\n",
       "</style>\n",
       "<table border=\"1\" class=\"dataframe\">\n",
       "  <thead>\n",
       "    <tr style=\"text-align: right;\">\n",
       "      <th></th>\n",
       "      <th>course_count</th>\n",
       "    </tr>\n",
       "  </thead>\n",
       "  <tbody>\n",
       "    <tr>\n",
       "      <th>0</th>\n",
       "      <td>127</td>\n",
       "    </tr>\n",
       "  </tbody>\n",
       "</table>\n",
       "</div>"
      ],
      "text/plain": [
       "   course_count\n",
       "0           127"
      ]
     },
     "execution_count": 28,
     "metadata": {},
     "output_type": "execute_result"
    }
   ],
   "source": [
    "# запрос получения количества курсов из справочника товаров\n",
    "req_course_count = '''\n",
    "select \n",
    "    count(distinct ci.resource_id) \n",
    "from \n",
    "    final.cart_items ci \n",
    "where \n",
    "    ci.resource_type = 'Course'\n",
    "'''\n",
    "# имена полей для выгрузки результата запроса в датафрейм\n",
    "cols_course_count = ['course_count']\n",
    "\n",
    "db_req(req_course_count, cols_course_count)"
   ]
  },
  {
   "cell_type": "markdown",
   "metadata": {},
   "source": [
    "<font size=\"4\" color=\"green\"><b> Каково среднее число купленных курсов на одного клиента?</b></font>"
   ]
  },
  {
   "cell_type": "code",
   "execution_count": 29,
   "metadata": {},
   "outputs": [
    {
     "name": "stdout",
     "output_type": "stream",
     "text": [
      "Connecting to DB...\n",
      "Connection established.\n",
      "REQ successful.\n",
      "Connection closed.\n"
     ]
    },
    {
     "data": {
      "text/html": [
       "<div>\n",
       "<style scoped>\n",
       "    .dataframe tbody tr th:only-of-type {\n",
       "        vertical-align: middle;\n",
       "    }\n",
       "\n",
       "    .dataframe tbody tr th {\n",
       "        vertical-align: top;\n",
       "    }\n",
       "\n",
       "    .dataframe thead th {\n",
       "        text-align: right;\n",
       "    }\n",
       "</style>\n",
       "<table border=\"1\" class=\"dataframe\">\n",
       "  <thead>\n",
       "    <tr style=\"text-align: right;\">\n",
       "      <th></th>\n",
       "      <th>Average_courses_count</th>\n",
       "    </tr>\n",
       "  </thead>\n",
       "  <tbody>\n",
       "    <tr>\n",
       "      <th>0</th>\n",
       "      <td>1.44</td>\n",
       "    </tr>\n",
       "  </tbody>\n",
       "</table>\n",
       "</div>"
      ],
      "text/plain": [
       "  Average_courses_count\n",
       "0                  1.44"
      ]
     },
     "execution_count": 29,
     "metadata": {},
     "output_type": "execute_result"
    }
   ],
   "source": [
    "# запрос формирует CTE cnt_courses для получения количества приобретенных курсов \n",
    "# каждым пользователем, из CTE sales_data\n",
    "req_users_courses_cnt = '''\n",
    ", \n",
    "cnt_courses as (\n",
    "select \n",
    "\t count(distinct resource_id) as courses\n",
    "from sales_data\n",
    "group by user_id\n",
    ")\n",
    "'''\n",
    "# запрос получает среднее количество курсов на клиента из CTE cnt_courses\n",
    "# округление - сотые\n",
    "req_avg_courses_cnt = '''\n",
    "select \n",
    "\tround(avg(courses),2)\n",
    "from cnt_courses\n",
    "'''\n",
    "# имена полей для выгрузки результата запроса в датафрейм\n",
    "cols_avg_courses_count = ['Average_courses_count']\n",
    "\n",
    "db_req(req_sales_data + \n",
    "       req_users_courses_cnt + \n",
    "       req_avg_courses_cnt, \n",
    "       cols_avg_courses_count)"
   ]
  },
  {
   "cell_type": "markdown",
   "metadata": {},
   "source": [
    "<font size=\"4\" color=\"green\"><b> Сколько клиентов купили больше одного курса?</b></font>"
   ]
  },
  {
   "cell_type": "code",
   "execution_count": 30,
   "metadata": {},
   "outputs": [
    {
     "name": "stdout",
     "output_type": "stream",
     "text": [
      "Connecting to DB...\n",
      "Connection established.\n",
      "REQ successful.\n",
      "Connection closed.\n"
     ]
    },
    {
     "data": {
      "text/html": [
       "<div>\n",
       "<style scoped>\n",
       "    .dataframe tbody tr th:only-of-type {\n",
       "        vertical-align: middle;\n",
       "    }\n",
       "\n",
       "    .dataframe tbody tr th {\n",
       "        vertical-align: top;\n",
       "    }\n",
       "\n",
       "    .dataframe thead th {\n",
       "        text-align: right;\n",
       "    }\n",
       "</style>\n",
       "<table border=\"1\" class=\"dataframe\">\n",
       "  <thead>\n",
       "    <tr style=\"text-align: right;\">\n",
       "      <th></th>\n",
       "      <th>Regular_users</th>\n",
       "    </tr>\n",
       "  </thead>\n",
       "  <tbody>\n",
       "    <tr>\n",
       "      <th>0</th>\n",
       "      <td>12656</td>\n",
       "    </tr>\n",
       "  </tbody>\n",
       "</table>\n",
       "</div>"
      ],
      "text/plain": [
       "   Regular_users\n",
       "0          12656"
      ]
     },
     "execution_count": 30,
     "metadata": {},
     "output_type": "execute_result"
    }
   ],
   "source": [
    "# запрос получает количество клиентов, купивших более 1 курса из CTE cnt_courses\n",
    "req_regular_users = '''\n",
    "select \n",
    "\tcount(courses)\n",
    "from cnt_courses\n",
    "where \t\n",
    "\tcourses > 1\n",
    "'''\n",
    "# имена полей для выгрузки результата запроса в датафрейм\n",
    "cols_reg_users = ['Regular_users']\n",
    "\n",
    "db_req(req_sales_data + \n",
    "       req_users_courses_cnt + \n",
    "       req_regular_users, \n",
    "       cols_reg_users)"
   ]
  },
  {
   "cell_type": "markdown",
   "metadata": {},
   "source": [
    "Видим невысокую лояльность пользователей, только каждый четвертый приобрел более 1 курса. Среднее количество курсов на покупателя также невысокое - 1,44."
   ]
  },
  {
   "cell_type": "markdown",
   "metadata": {},
   "source": [
    "## 3. Анализ полученных из БД данных"
   ]
  },
  {
   "cell_type": "markdown",
   "metadata": {},
   "source": [
    "<font size=\"4\" color=\"green\"><b> Сколько различных пар курсов встречаются вместе в покупках клиентов?</b></font>"
   ]
  },
  {
   "cell_type": "code",
   "execution_count": 31,
   "metadata": {},
   "outputs": [
    {
     "name": "stdout",
     "output_type": "stream",
     "text": [
      "Возможных пар курсов в покупках:  3989\n"
     ]
    }
   ],
   "source": [
    "# делаем копию датафрейма продаж\n",
    "df_user_courses = df_sales_data.drop(['cart_id','selltime'],axis=1)\n",
    "\n",
    "# строим полное пересечение пар курсов пользователей\n",
    "df_pairs_all = pd.merge(df_user_courses,\n",
    "                        df_user_courses,\n",
    "                        how='outer',\n",
    "                        on='user_id')\n",
    "\n",
    "# формируем маски для фильтрации повторов в полученном пересечении\n",
    "musk_A = df_pairs_all['course_id_x'] != df_pairs_all['course_id_y']\n",
    "musk_B = df_pairs_all['course_id_x'] < df_pairs_all['course_id_y']\n",
    "\n",
    "# применяем маски, группируем по парам курсов, считаем количество уникальных пар\n",
    "df_pairs = df_pairs_all[musk_A & musk_B]. \\\n",
    "    groupby(by=['course_id_x','course_id_y']).nunique().reset_index()\n",
    "\n",
    "print('Возможных пар курсов в покупках: ',df_pairs.shape[0])"
   ]
  },
  {
   "cell_type": "markdown",
   "metadata": {},
   "source": [
    "<font size=\"4\" color=\"green\"><b> Найдите самую популярную пару курсов. Какие у них ID? </b></font>"
   ]
  },
  {
   "cell_type": "code",
   "execution_count": 32,
   "metadata": {},
   "outputs": [
    {
     "name": "stdout",
     "output_type": "stream",
     "text": [
      "Самая популярная пара курсов:\n",
      "551\n",
      "566\n"
     ]
    }
   ],
   "source": [
    "# переименуем столбец с количеством покупок для дальнейшего удобства\n",
    "df_pairs = df_pairs.rename(columns={'user_id':'sales'})\n",
    "\n",
    "print('Самая популярная пара курсов:' )\n",
    "print(df_pairs.sort_values(by=['sales'],\n",
    "                           ascending=False).iloc[0]['course_id_x'])\n",
    "print(df_pairs.sort_values(by=['sales'],\n",
    "                           ascending=False).iloc[0]['course_id_y'])"
   ]
  },
  {
   "cell_type": "markdown",
   "metadata": {},
   "source": [
    "Посмотрим поближе на распределение популярности пар курсов."
   ]
  },
  {
   "cell_type": "code",
   "execution_count": 33,
   "metadata": {},
   "outputs": [
    {
     "data": {
      "text/plain": [
       "count    3989.000000\n",
       "mean       10.031838\n",
       "std        26.355998\n",
       "min         1.000000\n",
       "25%         1.000000\n",
       "50%         3.000000\n",
       "75%         9.000000\n",
       "max       797.000000\n",
       "Name: sales, dtype: float64"
      ]
     },
     "execution_count": 33,
     "metadata": {},
     "output_type": "execute_result"
    }
   ],
   "source": [
    "#получим статистику по продажам\n",
    "df_pairs['sales'].describe()"
   ]
  },
  {
   "cell_type": "code",
   "execution_count": 34,
   "metadata": {},
   "outputs": [
    {
     "name": "stdout",
     "output_type": "stream",
     "text": [
      "ShapiroResult(statistic=0.31442534923553467, pvalue=0.0)\n"
     ]
    }
   ],
   "source": [
    "# Тест Шапиро-Уилка для нулевой гипотезы о нормальном распределении данных\n",
    "shapiro = st.shapiro(df_pairs['sales'])\n",
    "print(shapiro)"
   ]
  },
  {
   "cell_type": "code",
   "execution_count": 35,
   "metadata": {},
   "outputs": [
    {
     "data": {
      "image/png": "[encoded data removed]",
      "text/plain": [
       "<Figure size 1500x600 with 1 Axes>"
      ]
     },
     "metadata": {},
     "output_type": "display_data"
    }
   ],
   "source": [
    "bin_count = int(df_pairs.shape[0]/10)\n",
    "\n",
    "fig, axes = plt.subplots(nrows=1, ncols=1, figsize=(15, 6))\n",
    "axes.hist(df_pairs['sales'],\n",
    "          bins=bin_count,\n",
    "          color = 'xkcd:slate blue'\n",
    "          )\n",
    "axes.set_title('Распределение частоты продаж пар курсов')\n",
    "plt.yscale('log')\n",
    "plt.show()"
   ]
  },
  {
   "cell_type": "markdown",
   "metadata": {},
   "source": [
    "Что следует отметить:\n",
    "- Распределение далеко от нормального;\n",
    "- Среднее количество продаж пар курсов - 10 (а это значение за 75% процентилем), при этом стандартное отклонение около 26. Имеется значительный разброс от среднего обусловленный тем, что объем продаж пар-бестселлеров носит характер статистических выбросов;\n",
    "- В данных имеется значительное количество малопопулярных пар курсов среди приобретенных, половина из пар приобреталась не более 3 раз.\n",
    "\n",
    "В целом, подтверждается утверждение продакт-менеджера о низкой популярности значительной части курсов онлайн-школы *MasterMind*. "
   ]
  },
  {
   "cell_type": "markdown",
   "metadata": {},
   "source": [
    "## 4. Формирование таблицы рекомендаций."
   ]
  },
  {
   "cell_type": "markdown",
   "metadata": {},
   "source": [
    "Итак, мы получили набор пар неких проданных курсов. Наличие пары курсов (назовем их курсами $X$ и $Y$, где $Y$ - рекомендуемый в пару к $X$) в нашем сете, в отсутствие иной информации, говорит о том, что для клиентов *MasterMind* имеется некая логическая связанность $X$ и $Y$, обосновывающая их приобретение условным (поскольку они могут приобретаться в различное время) комплектом. Чем чаще комплекты $X+Y$ приобретались, тем шире круг пользователей, для которых очевидно наличие этой связи, а для нас вероятность продать пару курсов комплектом (назовем этот признак \"*связанность*\"). Таким образом, частота продаж комплекта $X+Y$ является значимым показателем для формирования парной рекомендации. \n",
    "\n",
    "Однако, статистика имеющихся данных говорит о том, что значительный объем продаж составляют единичные пары. Рекомендацию для курса с небольшими разовыми продажами пар потребуется вырабатывать на дополнительных показателях. Другим вариантом решения является замена малопопулярных пар на новые, где рекомендуемый курс Y имеет значительные продажи, но никогда не продавался с курсом $X$. Последний вариант имеет изъян - неочевидна потребность пользователей в паре $X+Y$, ведь она никогда не покупалась. \n",
    "\n",
    "С учетом этих соображений, текущая рекомендательная система для малопопулярных пар будет использовать дополнительный признак - количество вариантов пар, в которых продавался курс $Y$. Значительное количество таких пар укажет на хороший потенциал продать этот курс в пару к другому (назовем его \"*впариваемость*\"). В практическом плане мы максимизируем индексы связанности и впариваемости. "
   ]
  },
  {
   "cell_type": "code",
   "execution_count": 36,
   "metadata": {},
   "outputs": [],
   "source": [
    "# Построим \"симметричный\" датафрейм с количеством проданных пар курсов. \n",
    "# Под симметричностью здесь понимается наличие одной проданной\n",
    "# пары в двух экземплярах - пара X+Y и пара Y+X\n",
    "\n",
    "df_rec = df_pairs_all[musk_A]. \\\n",
    "    groupby(by=['course_id_x','course_id_y']).nunique().reset_index()"
   ]
  },
  {
   "cell_type": "code",
   "execution_count": 37,
   "metadata": {},
   "outputs": [
    {
     "data": {
      "text/html": [
       "<div>\n",
       "<style scoped>\n",
       "    .dataframe tbody tr th:only-of-type {\n",
       "        vertical-align: middle;\n",
       "    }\n",
       "\n",
       "    .dataframe tbody tr th {\n",
       "        vertical-align: top;\n",
       "    }\n",
       "\n",
       "    .dataframe thead th {\n",
       "        text-align: right;\n",
       "    }\n",
       "</style>\n",
       "<table border=\"1\" class=\"dataframe\">\n",
       "  <thead>\n",
       "    <tr style=\"text-align: right;\">\n",
       "      <th></th>\n",
       "      <th>index</th>\n",
       "      <th>course_id_x</th>\n",
       "      <th>course_id_y</th>\n",
       "      <th>xy_pairs_sold</th>\n",
       "      <th>y_pairs_total</th>\n",
       "    </tr>\n",
       "  </thead>\n",
       "  <tbody>\n",
       "    <tr>\n",
       "      <th>0</th>\n",
       "      <td>7975</td>\n",
       "      <td>1201</td>\n",
       "      <td>1125</td>\n",
       "      <td>1</td>\n",
       "      <td>77</td>\n",
       "    </tr>\n",
       "    <tr>\n",
       "      <th>1</th>\n",
       "      <td>7974</td>\n",
       "      <td>1201</td>\n",
       "      <td>571</td>\n",
       "      <td>1</td>\n",
       "      <td>75</td>\n",
       "    </tr>\n",
       "    <tr>\n",
       "      <th>2</th>\n",
       "      <td>7976</td>\n",
       "      <td>1201</td>\n",
       "      <td>1144</td>\n",
       "      <td>1</td>\n",
       "      <td>53</td>\n",
       "    </tr>\n",
       "    <tr>\n",
       "      <th>3</th>\n",
       "      <td>7977</td>\n",
       "      <td>1201</td>\n",
       "      <td>1186</td>\n",
       "      <td>1</td>\n",
       "      <td>44</td>\n",
       "    </tr>\n",
       "    <tr>\n",
       "      <th>4</th>\n",
       "      <td>7971</td>\n",
       "      <td>1200</td>\n",
       "      <td>794</td>\n",
       "      <td>1</td>\n",
       "      <td>107</td>\n",
       "    </tr>\n",
       "  </tbody>\n",
       "</table>\n",
       "</div>"
      ],
      "text/plain": [
       "   index  course_id_x  course_id_y  xy_pairs_sold  y_pairs_total\n",
       "0   7975         1201         1125              1             77\n",
       "1   7974         1201          571              1             75\n",
       "2   7976         1201         1144              1             53\n",
       "3   7977         1201         1186              1             44\n",
       "4   7971         1200          794              1            107"
      ]
     },
     "execution_count": 37,
     "metadata": {},
     "output_type": "execute_result"
    }
   ],
   "source": [
    "# Теперь добавим признак \"впариваемости\" для курса Y:\n",
    "df_rec['y_pairs_total'] = df_rec.groupby(['course_id_y'])['course_id_x'].transform('count')\n",
    "\n",
    "# для удобства переименуем поля более логичным образом:\n",
    "df_rec = df_rec.rename(columns={'user_id':'xy_pairs_sold'})\n",
    "\n",
    "# Сортируем таблицу по убыванию, сначала по номеру курса X, \n",
    "# далее по количеству проданных пар с курсом Y, (связанность)\n",
    "# и по количеству пар, в которых продавался курс Y (впариваемость Y).\n",
    "df_rec = df_rec.sort_values(by=['course_id_x', 'xy_pairs_sold','y_pairs_total'], ascending=False).reset_index()\n",
    "df_rec.head()"
   ]
  },
  {
   "cell_type": "markdown",
   "metadata": {},
   "source": [
    "Итак, имеем таблицу с интересующими нас признаками. Статистику продаж пар рассмотрели уже выше. Обратимся к статистике показателя впариваемости:"
   ]
  },
  {
   "cell_type": "code",
   "execution_count": 38,
   "metadata": {},
   "outputs": [
    {
     "data": {
      "text/plain": [
       "count    126.000000\n",
       "mean      63.317460\n",
       "std       28.667934\n",
       "min        3.000000\n",
       "25%       44.250000\n",
       "50%       64.000000\n",
       "75%       80.000000\n",
       "max      117.000000\n",
       "Name: y_pairs_total, dtype: float64"
      ]
     },
     "execution_count": 38,
     "metadata": {},
     "output_type": "execute_result"
    }
   ],
   "source": [
    "# Сформируем серию с количеством пар, образованным каждым курсом при продаже\n",
    "df_pairability = df_rec.groupby(['course_id_y'])['y_pairs_total'].mean()\n",
    "# получим статистику по серии:\n",
    "df_pairability.describe()"
   ]
  },
  {
   "cell_type": "markdown",
   "metadata": {},
   "source": [
    "Сейчас мы видим невысокий минимальный уровень, по итогам отбора лучших 2 рекомендаций он должен значительно увеличиться.\n",
    "\n",
    "Пора проверить предположение о том, что количество пар, в которые попал рекомендуемый курс (показатель впариваемости) указывает на потенциальный успех в продажах. Рассчитаем ранговую корреляцию Спирмена показателя впариваемости и количества продаж курса в целом (как с другими курсами, так и поодиночке). "
   ]
  },
  {
   "cell_type": "code",
   "execution_count": 39,
   "metadata": {},
   "outputs": [
    {
     "data": {
      "text/plain": [
       "SignificanceResult(statistic=0.7944493937923574, pvalue=1.2502419480349456e-28)"
      ]
     },
     "execution_count": 39,
     "metadata": {},
     "output_type": "execute_result"
    }
   ],
   "source": [
    "# В датафрейм df_bulk_sales загрузим количество продаж курсов в целом.\n",
    "df_bulk_sales = df_sales_data.groupby(['course_id'])['user_id'].nunique().reset_index()\n",
    "\n",
    "st.spearmanr(df_pairability,df_bulk_sales['user_id'])"
   ]
  },
  {
   "cell_type": "markdown",
   "metadata": {},
   "source": [
    "Коэффициент корреляции $0.79$ при p-value $1.25*10^{-28}$. Можем пользоваться нашим допущением.\n",
    "\n",
    "Проведем сокращение датафрейма df_rec до 2 рекомендованных пар. Поскольку она отстортирована по убыванию, просто оставляем 2 первых парных курса."
   ]
  },
  {
   "cell_type": "code",
   "execution_count": 40,
   "metadata": {},
   "outputs": [],
   "source": [
    "# формируем и сортируем датафрейм с показателем связанности\n",
    "# (продано пар X+Y) по убыванию: \n",
    "pairs_count = df_rec['course_id_x'].value_counts(). \\\n",
    "                to_frame().sort_values(by=['course_id_x'],ascending=False)\n",
    "\n",
    "# счетчик позиции текущего курса в датафрейме \n",
    "pos = 0\n",
    "# список позиций удаляемых строк, инициализируется пустым\n",
    "droplist = list()\n",
    "# в цикле проходим по количеству курсов, проданных с курсом X в паре\n",
    "for Xpairs in pairs_count.iloc[:,0]:\n",
    "    # добавляем в список на удаление все пары, кроме первых двух\n",
    "    droplist += list(range(pos+2,pos+Xpairs))\n",
    "    # прибавляем к текущей позиции количество пар\n",
    "    pos = pos + Xpairs \n",
    "\n",
    "# удаляем пары курсов с минимальными продажами    \n",
    "df_rec = df_rec.drop(droplist)"
   ]
  },
  {
   "cell_type": "code",
   "execution_count": 41,
   "metadata": {},
   "outputs": [
    {
     "data": {
      "text/plain": [
       "count     55.000000\n",
       "mean      79.327273\n",
       "std       21.895420\n",
       "min       37.000000\n",
       "25%       64.000000\n",
       "50%       76.000000\n",
       "75%      101.000000\n",
       "max      117.000000\n",
       "Name: y_pairs_total, dtype: float64"
      ]
     },
     "execution_count": 41,
     "metadata": {},
     "output_type": "execute_result"
    }
   ],
   "source": [
    "# Посмотрим на статистику рекомендуемых курсов\n",
    "df_rec.groupby(['course_id_y'])['y_pairs_total'].mean().describe()"
   ]
  },
  {
   "cell_type": "markdown",
   "metadata": {},
   "source": [
    "Итак, рекомендуемые курсы имеют достаточно высокий показатель впариваемости. Среднее значение 79, медиана 76. Можем прогнозировать высокий потенциал продаж для рекомендаций. \n",
    "\n",
    "Осталось привести датафрейм в требуемый продакт-менеджером вид."
   ]
  },
  {
   "cell_type": "code",
   "execution_count": 42,
   "metadata": {},
   "outputs": [],
   "source": [
    "# В нашем датафрейме данные уже отсортированы по признакам,\n",
    "# соответственно нужно выделить первую рекомендацию \n",
    "# из нечетных строк, а вторую - из четных (столбец course_id_y)\n",
    "\n",
    "# удалим ненужные уже столбцы\n",
    "df_rec = df_rec.drop(['xy_pairs_sold','y_pairs_total','index'],axis=1)\n",
    "\n",
    "# выделяем в датафрейм первые рекомендации\n",
    "df_left = df_rec.loc[::2,:]\n",
    "\n",
    "# ... и вторые - в другой датафрейм\n",
    "df_right = df_rec.loc[1::2,:]\n",
    "\n",
    "# собираем в один датафрейм:\n",
    "df_rec = pd.merge(df_left,\n",
    "                  df_right,\n",
    "                  on='course_id_x',\n",
    "                  suffixes=['_1st','_2nd'],\n",
    "                  how='left'\n",
    "                  )"
   ]
  },
  {
   "cell_type": "code",
   "execution_count": 43,
   "metadata": {},
   "outputs": [
    {
     "data": {
      "text/html": [
       "<div>\n",
       "<style scoped>\n",
       "    .dataframe tbody tr th:only-of-type {\n",
       "        vertical-align: middle;\n",
       "    }\n",
       "\n",
       "    .dataframe tbody tr th {\n",
       "        vertical-align: top;\n",
       "    }\n",
       "\n",
       "    .dataframe thead th {\n",
       "        text-align: right;\n",
       "    }\n",
       "</style>\n",
       "<table border=\"1\" class=\"dataframe\">\n",
       "  <thead>\n",
       "    <tr style=\"text-align: right;\">\n",
       "      <th></th>\n",
       "      <th>course_id_x</th>\n",
       "      <th>course_id_y_1st</th>\n",
       "      <th>course_id_y_2nd</th>\n",
       "    </tr>\n",
       "  </thead>\n",
       "  <tbody>\n",
       "    <tr>\n",
       "      <th>0</th>\n",
       "      <td>1201</td>\n",
       "      <td>1125</td>\n",
       "      <td>571</td>\n",
       "    </tr>\n",
       "    <tr>\n",
       "      <th>1</th>\n",
       "      <td>1200</td>\n",
       "      <td>794</td>\n",
       "      <td>1104</td>\n",
       "    </tr>\n",
       "    <tr>\n",
       "      <th>2</th>\n",
       "      <td>1199</td>\n",
       "      <td>523</td>\n",
       "      <td>515</td>\n",
       "    </tr>\n",
       "    <tr>\n",
       "      <th>3</th>\n",
       "      <td>1198</td>\n",
       "      <td>571</td>\n",
       "      <td>551</td>\n",
       "    </tr>\n",
       "    <tr>\n",
       "      <th>4</th>\n",
       "      <td>1188</td>\n",
       "      <td>1141</td>\n",
       "      <td>513</td>\n",
       "    </tr>\n",
       "  </tbody>\n",
       "</table>\n",
       "</div>"
      ],
      "text/plain": [
       "   course_id_x  course_id_y_1st  course_id_y_2nd\n",
       "0         1201             1125              571\n",
       "1         1200              794             1104\n",
       "2         1199              523              515\n",
       "3         1198              571              551\n",
       "4         1188             1141              513"
      ]
     },
     "execution_count": 43,
     "metadata": {},
     "output_type": "execute_result"
    }
   ],
   "source": [
    "df_rec.head()"
   ]
  },
  {
   "cell_type": "markdown",
   "metadata": {},
   "source": [
    "<style> p {font-family: Segoe Print, Segoe Script}</style>\n",
    "<p>Дорогой продакт-менеджер!\n",
    "\n",
    "Предложенная здесь система рекомендаций достаточно проста в реализации и легко масштабируема, её достоинство в том, что она построена на подтвержденном историей покупок интересе покупателей ко второму курсу. \n",
    "\n",
    "Недостаток данной системы - её эффективность зависит от величины индекса впариваемости курсов. Она малопригодна в ситуациях, когда, например, предлагаются курсы по значительному количеству обособленных тематик, и по каждой тематике ассортимент ограничен единицами курсов (здесь кросс-продажи в принципе сильно осложнены).\n",
    "\n",
    "Ваш М.К.\n",
    "</p>\n",
    "\n"
   ]
  }
 ],
 "metadata": {
  "kernelspec": {
   "display_name": "Python 3",
   "language": "python",
   "name": "python3"
  },
  "language_info": {
   "codemirror_mode": {
    "name": "ipython",
    "version": 3
   },
   "file_extension": ".py",
   "mimetype": "text/x-python",
   "name": "python",
   "nbconvert_exporter": "python",
   "pygments_lexer": "ipython3",
   "version": "3.11.3"
  },
  "orig_nbformat": 4
 },
 "nbformat": 4,
 "nbformat_minor": 2
}

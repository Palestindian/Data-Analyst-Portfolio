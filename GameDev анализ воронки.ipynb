{
 "cells": [
  {
   "attachments": {},
   "cell_type": "markdown",
   "metadata": {},
   "source": [
    "<font size=\"6\" color=\"green\"><b>PROJECT-3.</b> Анализ воронки (GameDev)</font>\n",
    "\n",
    "<font size=\"4\" color=\"green\"><b> Цель работы:  </b></font>\n",
    "Исследование поведения пользователей в мобильной игре <b><i>Quiz Freeze</b></i><br><br>\n",
    "<font size=\"4\" color=\"green\"><b> Поставленный список вопросов:  </b></font> <br>\n",
    "* <b> Гипотеза 1:</b>\n",
    "    По идее, должна быть разница в поведении групп, которые проходят и не проходят обучение. Но так ли это? Влияет ли обучение на скорость прохождения других этапов игры?\n",
    "\n",
    "* <b> Гипотеза 2: </b>\n",
    "    Кажется, повторное прохождение обучения положительно влияет на оплату, верно?\n",
    "\n",
    "* <b> Гипотеза 3: </b>\n",
    "    Если пользователь сначала выбирает сложность обучения, будет ли он потом проходить обучение?\n",
    "<font size=\"3\" color=\"brown\" ><p style=\"text-align:right;\"><b>DAPR-1014</b>, Коссе Максим  </p></font>"
   ]
  },
  {
   "attachments": {},
   "cell_type": "markdown",
   "metadata": {},
   "source": [
    "<font size=\"4\" color=\"green\"><b> КОНКРЕТНЫЕ ШАГИ (ФОРМАЛИЗОВАННЫЕ ЗАДАЧИ)</b></font> <br>\n",
    "* *Сравнить* время прохождения различных этапов для пользователей, которые завершили обучение, и пользователей, не начинавших обучение. Если показатель отличается, выяснить, насколько.\n",
    "\n",
    "* *Проверить*, существует ли зависимость между вероятностью оплаты вопросов и количеством обучений, которые начинал или завершал пользователь. \n",
    "\n",
    "* *Выяснить*, как часто пользователи начинают обучение после выбора уровня сложности. (Это позволит оценить прозрачность процесса взаимодействия с игрой: если пользователи после выбора уровня сложности обращаются к обучению, значит, работа с приложением непонятна.)"
   ]
  },
  {
   "attachments": {},
   "cell_type": "markdown",
   "metadata": {},
   "source": [
    "<font size=\"4\" color=\"green\"><b> Этапы игры </b></font>\n",
    "\n",
    "**Регистрация** (registration) — это обязательный этап. Без регистрации пользователь не может пройти на следующие этапы работы с приложением.\n",
    "\n",
    "**Старт обучения** (tutorial start) — опциональный этап. Пользователь после регистрации может перейти к обучению работе с приложением, а может и не перейти. При этом вернуться к обучению можно в любой момент. А ещё можно пройти обучение несколько раз.\n",
    "\n",
    "**Завершение обучения** (tutorial finish) может произойти только в случае, если ранее произошло событие «Старт обучения», но при этом пользователь может не завершить обучение.\n",
    "\n",
    "**Выбор уровня сложности вопросов** (level choice) — это обязательное событие, которое нужно для того, чтобы перейти к выбору пакетов вопросов. Таким образом, пользователь может не пройти обучение или даже не начинать его, но прежде чем начать отвечать, он обязан выбрать уровень сложности.\n",
    "\n",
    "**Выбор пакетов вопросов** (pack choice, другое название training choice) — это этап, на котором пользователь выбирает себе бесплатный набор пакетов вопросов, на которые он будет отвечать.\n",
    "\n",
    "**Покупка платных пакетов вопросов** (purchase) — это факт совершения оплаты за вопросы, которые не доступны в списке бесплатных вопросов."
   ]
  },
  {
   "attachments": {},
   "cell_type": "markdown",
   "metadata": {},
   "source": [
    "## 1. Импорт и загрузка"
   ]
  },
  {
   "cell_type": "code",
   "execution_count": 7,
   "metadata": {},
   "outputs": [],
   "source": [
    "import pandas as pd\n",
    "import matplotlib.pyplot as plt\n",
    "import numpy as np\n",
    "\n",
    "# Загружаем в датафрейм события - event_df\n",
    "event_df = pd.read_csv('data/7_4_Events.csv')\n",
    "\n",
    "# Загружаем в датафрейм записи оплаты контента - purch_df\n",
    "purch_df = pd.read_csv('data/purchase.csv')"
   ]
  },
  {
   "attachments": {},
   "cell_type": "markdown",
   "metadata": {},
   "source": [
    "## 2. Очистка и трансформация"
   ]
  },
  {
   "attachments": {},
   "cell_type": "markdown",
   "metadata": {},
   "source": [
    "### 2.1. Пользователи только 2018 года регистрации"
   ]
  },
  {
   "attachments": {},
   "cell_type": "markdown",
   "metadata": {},
   "source": [
    "Исполняем условие об ограничении - \"*Выполнять задание необходимо на основе данных пользователей, которые зарегистрировались в 2018 году.*\""
   ]
  },
  {
   "cell_type": "code",
   "execution_count": 8,
   "metadata": {},
   "outputs": [],
   "source": [
    "# Формируем маски для выборки пользователей, зарегистрированных в 2018\n",
    "musk_A = event_df['event_type'] == 'registration'\n",
    "musk_B = event_df['start_time'] >= '2018-01-01'\n",
    "musk_C = event_df['start_time'] <= '2018-12-31'\n",
    "\n",
    "# Выгружаем ID пользователей, зарегестрированных в 2018г. в список для последующего усечения\n",
    "usr2018_keeplist = event_df[musk_A & musk_B & musk_C]['user_id'].to_list()\n",
    "\n",
    "# Урезаем загруженные датасеты, оставляя только данные поколения-2018\n",
    "event_df = event_df[event_df['user_id'].isin(usr2018_keeplist)]\n",
    "purch_df = purch_df[purch_df['user_id'].isin(usr2018_keeplist)]"
   ]
  },
  {
   "attachments": {},
   "cell_type": "markdown",
   "metadata": {},
   "source": [
    "### 2.2. Формирование объединенного датафрейма событий"
   ]
  },
  {
   "attachments": {},
   "cell_type": "markdown",
   "metadata": {},
   "source": [
    "Собираем события из двух датасетов в единый датафрейм **all_events_df** для удобства последующей обработки."
   ]
  },
  {
   "cell_type": "code",
   "execution_count": 9,
   "metadata": {},
   "outputs": [],
   "source": [
    "# Добавим в датафрейм purch_df столбец event_type, который будет содержать одно значение - purchase.\n",
    "# Это необходимо для идентификации событий оплаты в объединенном датафрейме.\n",
    "\n",
    "purch_df['event_type'] = 'purchase'"
   ]
  },
  {
   "cell_type": "code",
   "execution_count": 10,
   "metadata": {},
   "outputs": [],
   "source": [
    "# Переименуем столбцы с именем 'id', которые несут различный смысл в исходных датафреймах. \n",
    "# Соответственно в формируемом едином датафрейме: \n",
    "#   - колонка event_id будет содержать идентификатор выбора пользователя, NaN для событий оплаты\n",
    "#   - колонка purchase_id  будет содержать идентификатор оплаты, NaN для остальных событий \n",
    "\n",
    "# Также приводим наименование столбца 'event_datetime' из purch_df к единому 'start_time'\n",
    "\n",
    "event_df = event_df.rename(columns={'id': 'event_id'})\n",
    "purch_df = purch_df.rename(columns={\n",
    "        'id': 'purchase_id', \n",
    "        'event_datetime': 'start_time'\n",
    "    })"
   ]
  },
  {
   "cell_type": "code",
   "execution_count": 11,
   "metadata": {},
   "outputs": [
    {
     "data": {
      "text/html": [
       "<div>\n",
       "<style scoped>\n",
       "    .dataframe tbody tr th:only-of-type {\n",
       "        vertical-align: middle;\n",
       "    }\n",
       "\n",
       "    .dataframe tbody tr th {\n",
       "        vertical-align: top;\n",
       "    }\n",
       "\n",
       "    .dataframe thead th {\n",
       "        text-align: right;\n",
       "    }\n",
       "</style>\n",
       "<table border=\"1\" class=\"dataframe\">\n",
       "  <thead>\n",
       "    <tr style=\"text-align: right;\">\n",
       "      <th></th>\n",
       "      <th>event_id</th>\n",
       "      <th>event_type</th>\n",
       "      <th>selected_level</th>\n",
       "      <th>start_time</th>\n",
       "      <th>tutorial_id</th>\n",
       "      <th>user_id</th>\n",
       "      <th>purchase_id</th>\n",
       "      <th>amount</th>\n",
       "    </tr>\n",
       "  </thead>\n",
       "  <tbody>\n",
       "    <tr>\n",
       "      <th>count</th>\n",
       "      <td>66929.000000</td>\n",
       "      <td>68529</td>\n",
       "      <td>8338</td>\n",
       "      <td>68529</td>\n",
       "      <td>32942.000000</td>\n",
       "      <td>68529.000000</td>\n",
       "      <td>1600.000000</td>\n",
       "      <td>1600.000000</td>\n",
       "    </tr>\n",
       "    <tr>\n",
       "      <th>unique</th>\n",
       "      <td>NaN</td>\n",
       "      <td>6</td>\n",
       "      <td>3</td>\n",
       "      <td>NaN</td>\n",
       "      <td>NaN</td>\n",
       "      <td>NaN</td>\n",
       "      <td>NaN</td>\n",
       "      <td>NaN</td>\n",
       "    </tr>\n",
       "    <tr>\n",
       "      <th>top</th>\n",
       "      <td>NaN</td>\n",
       "      <td>registration</td>\n",
       "      <td>medium</td>\n",
       "      <td>NaN</td>\n",
       "      <td>NaN</td>\n",
       "      <td>NaN</td>\n",
       "      <td>NaN</td>\n",
       "      <td>NaN</td>\n",
       "    </tr>\n",
       "    <tr>\n",
       "      <th>freq</th>\n",
       "      <td>NaN</td>\n",
       "      <td>19914</td>\n",
       "      <td>4642</td>\n",
       "      <td>NaN</td>\n",
       "      <td>NaN</td>\n",
       "      <td>NaN</td>\n",
       "      <td>NaN</td>\n",
       "      <td>NaN</td>\n",
       "    </tr>\n",
       "    <tr>\n",
       "      <th>mean</th>\n",
       "      <td>113772.001016</td>\n",
       "      <td>NaN</td>\n",
       "      <td>NaN</td>\n",
       "      <td>2018-07-03 07:09:43.450072064</td>\n",
       "      <td>40529.649323</td>\n",
       "      <td>37776.506734</td>\n",
       "      <td>17645.505625</td>\n",
       "      <td>110.734375</td>\n",
       "    </tr>\n",
       "    <tr>\n",
       "      <th>min</th>\n",
       "      <td>80308.000000</td>\n",
       "      <td>NaN</td>\n",
       "      <td>NaN</td>\n",
       "      <td>2018-01-01 03:48:40</td>\n",
       "      <td>31505.000000</td>\n",
       "      <td>27832.000000</td>\n",
       "      <td>16845.000000</td>\n",
       "      <td>25.000000</td>\n",
       "    </tr>\n",
       "    <tr>\n",
       "      <th>25%</th>\n",
       "      <td>97040.000000</td>\n",
       "      <td>NaN</td>\n",
       "      <td>NaN</td>\n",
       "      <td>2018-03-24 12:27:51</td>\n",
       "      <td>36007.000000</td>\n",
       "      <td>32845.000000</td>\n",
       "      <td>17245.750000</td>\n",
       "      <td>50.000000</td>\n",
       "    </tr>\n",
       "    <tr>\n",
       "      <th>50%</th>\n",
       "      <td>113772.000000</td>\n",
       "      <td>NaN</td>\n",
       "      <td>NaN</td>\n",
       "      <td>2018-06-23 18:35:11</td>\n",
       "      <td>40526.500000</td>\n",
       "      <td>37711.000000</td>\n",
       "      <td>17645.500000</td>\n",
       "      <td>100.000000</td>\n",
       "    </tr>\n",
       "    <tr>\n",
       "      <th>75%</th>\n",
       "      <td>130504.000000</td>\n",
       "      <td>NaN</td>\n",
       "      <td>NaN</td>\n",
       "      <td>2018-10-12 11:09:19</td>\n",
       "      <td>45052.000000</td>\n",
       "      <td>42735.000000</td>\n",
       "      <td>18045.250000</td>\n",
       "      <td>150.000000</td>\n",
       "    </tr>\n",
       "    <tr>\n",
       "      <th>max</th>\n",
       "      <td>147241.000000</td>\n",
       "      <td>NaN</td>\n",
       "      <td>NaN</td>\n",
       "      <td>2019-01-06 07:14:25</td>\n",
       "      <td>49549.000000</td>\n",
       "      <td>47745.000000</td>\n",
       "      <td>18452.000000</td>\n",
       "      <td>300.000000</td>\n",
       "    </tr>\n",
       "    <tr>\n",
       "      <th>std</th>\n",
       "      <td>19320.884180</td>\n",
       "      <td>NaN</td>\n",
       "      <td>NaN</td>\n",
       "      <td>NaN</td>\n",
       "      <td>5211.593585</td>\n",
       "      <td>5750.600851</td>\n",
       "      <td>462.038637</td>\n",
       "      <td>54.696628</td>\n",
       "    </tr>\n",
       "  </tbody>\n",
       "</table>\n",
       "</div>"
      ],
      "text/plain": [
       "             event_id    event_type selected_level  \\\n",
       "count    66929.000000         68529           8338   \n",
       "unique            NaN             6              3   \n",
       "top               NaN  registration         medium   \n",
       "freq              NaN         19914           4642   \n",
       "mean    113772.001016           NaN            NaN   \n",
       "min      80308.000000           NaN            NaN   \n",
       "25%      97040.000000           NaN            NaN   \n",
       "50%     113772.000000           NaN            NaN   \n",
       "75%     130504.000000           NaN            NaN   \n",
       "max     147241.000000           NaN            NaN   \n",
       "std      19320.884180           NaN            NaN   \n",
       "\n",
       "                           start_time   tutorial_id       user_id  \\\n",
       "count                           68529  32942.000000  68529.000000   \n",
       "unique                            NaN           NaN           NaN   \n",
       "top                               NaN           NaN           NaN   \n",
       "freq                              NaN           NaN           NaN   \n",
       "mean    2018-07-03 07:09:43.450072064  40529.649323  37776.506734   \n",
       "min               2018-01-01 03:48:40  31505.000000  27832.000000   \n",
       "25%               2018-03-24 12:27:51  36007.000000  32845.000000   \n",
       "50%               2018-06-23 18:35:11  40526.500000  37711.000000   \n",
       "75%               2018-10-12 11:09:19  45052.000000  42735.000000   \n",
       "max               2019-01-06 07:14:25  49549.000000  47745.000000   \n",
       "std                               NaN   5211.593585   5750.600851   \n",
       "\n",
       "         purchase_id       amount  \n",
       "count    1600.000000  1600.000000  \n",
       "unique           NaN          NaN  \n",
       "top              NaN          NaN  \n",
       "freq             NaN          NaN  \n",
       "mean    17645.505625   110.734375  \n",
       "min     16845.000000    25.000000  \n",
       "25%     17245.750000    50.000000  \n",
       "50%     17645.500000   100.000000  \n",
       "75%     18045.250000   150.000000  \n",
       "max     18452.000000   300.000000  \n",
       "std       462.038637    54.696628  "
      ]
     },
     "metadata": {},
     "output_type": "display_data"
    }
   ],
   "source": [
    "# Формируем объединенную таблицу событий - all_events_df\n",
    "all_events_df = pd.concat([event_df,purch_df],sort=False)\n",
    "\n",
    "# Приведем поле 'start_time' к типу DateTime:\n",
    "all_events_df['start_time'] = pd.to_datetime(all_events_df['start_time'])\n",
    "\n",
    "# Проведем сброс индексов после объединения, отсортируем события по времени\n",
    "all_events_df = all_events_df.reset_index(drop=True).sort_values('start_time')\n",
    "\n",
    "# Проверим содержимое полученной таблицы\n",
    "display(all_events_df.describe(include='all')) # Устаревший аргумент datetime_is_numeric=True изъят"
   ]
  },
  {
   "attachments": {},
   "cell_type": "markdown",
   "metadata": {},
   "source": [
    "## 3. Гипотеза 1. Влияние факта завершения обучения на время прохождения этапов игры."
   ]
  },
  {
   "attachments": {},
   "cell_type": "markdown",
   "metadata": {},
   "source": [
    "*Сравнить* время прохождения различных этапов для пользователей, которые завершили обучение, и пользователей, не начинавших обучение. Если показатель отличается, выяснить, насколько."
   ]
  },
  {
   "attachments": {},
   "cell_type": "markdown",
   "metadata": {},
   "source": [
    "### 3.1. Категорирование пользователей по прохождению обучения"
   ]
  },
  {
   "attachments": {},
   "cell_type": "markdown",
   "metadata": {},
   "source": [
    "Для классификации пользователей по признаку прохождения обучения сформируем таблицу вида \"пользователи - время игровых событий (по самомому раннему проявлению)\". Далее, на основании анализа таймингов событий у каждого пользователя, присвоим ему соответствующий признак tutorial_status (complete, incomplete, skipped). "
   ]
  },
  {
   "cell_type": "code",
   "execution_count": 12,
   "metadata": {},
   "outputs": [
    {
     "name": "stdout",
     "output_type": "stream",
     "text": [
      "<class 'pandas.core.frame.DataFrame'>\n",
      "RangeIndex: 19914 entries, 0 to 19913\n",
      "Data columns (total 7 columns):\n",
      " #   Column           Non-Null Count  Dtype         \n",
      "---  ------           --------------  -----         \n",
      " 0   user_id          19914 non-null  int64         \n",
      " 1   level_choice     8338 non-null   datetime64[ns]\n",
      " 2   pack_choice      5735 non-null   datetime64[ns]\n",
      " 3   purchase         1600 non-null   datetime64[ns]\n",
      " 4   registration     19914 non-null  datetime64[ns]\n",
      " 5   tutorial_finish  10244 non-null  datetime64[ns]\n",
      " 6   tutorial_start   11852 non-null  datetime64[ns]\n",
      "dtypes: datetime64[ns](6), int64(1)\n",
      "memory usage: 1.1 MB\n"
     ]
    },
    {
     "data": {
      "text/plain": [
       "None"
      ]
     },
     "metadata": {},
     "output_type": "display_data"
    },
    {
     "data": {
      "text/html": [
       "<div>\n",
       "<style scoped>\n",
       "    .dataframe tbody tr th:only-of-type {\n",
       "        vertical-align: middle;\n",
       "    }\n",
       "\n",
       "    .dataframe tbody tr th {\n",
       "        vertical-align: top;\n",
       "    }\n",
       "\n",
       "    .dataframe thead th {\n",
       "        text-align: right;\n",
       "    }\n",
       "</style>\n",
       "<table border=\"1\" class=\"dataframe\">\n",
       "  <thead>\n",
       "    <tr style=\"text-align: right;\">\n",
       "      <th>event_type</th>\n",
       "      <th>user_id</th>\n",
       "      <th>level_choice</th>\n",
       "      <th>pack_choice</th>\n",
       "      <th>purchase</th>\n",
       "      <th>registration</th>\n",
       "      <th>tutorial_finish</th>\n",
       "      <th>tutorial_start</th>\n",
       "    </tr>\n",
       "  </thead>\n",
       "  <tbody>\n",
       "    <tr>\n",
       "      <th>0</th>\n",
       "      <td>27832</td>\n",
       "      <td>NaT</td>\n",
       "      <td>NaT</td>\n",
       "      <td>NaT</td>\n",
       "      <td>2018-01-01 03:48:40</td>\n",
       "      <td>NaT</td>\n",
       "      <td>NaT</td>\n",
       "    </tr>\n",
       "    <tr>\n",
       "      <th>1</th>\n",
       "      <td>27833</td>\n",
       "      <td>NaT</td>\n",
       "      <td>NaT</td>\n",
       "      <td>NaT</td>\n",
       "      <td>2018-01-01 04:07:25</td>\n",
       "      <td>2018-01-01 17:50:08</td>\n",
       "      <td>2018-01-01 17:47:40</td>\n",
       "    </tr>\n",
       "    <tr>\n",
       "      <th>2</th>\n",
       "      <td>27834</td>\n",
       "      <td>NaT</td>\n",
       "      <td>NaT</td>\n",
       "      <td>NaT</td>\n",
       "      <td>2018-01-01 08:35:10</td>\n",
       "      <td>2018-01-01 19:48:01</td>\n",
       "      <td>2018-01-01 19:46:11</td>\n",
       "    </tr>\n",
       "    <tr>\n",
       "      <th>3</th>\n",
       "      <td>27835</td>\n",
       "      <td>2018-01-01 20:37:22</td>\n",
       "      <td>2018-01-01 20:38:43</td>\n",
       "      <td>NaT</td>\n",
       "      <td>2018-01-01 11:54:47</td>\n",
       "      <td>2018-01-01 15:06:15</td>\n",
       "      <td>2018-01-01 15:00:51</td>\n",
       "    </tr>\n",
       "    <tr>\n",
       "      <th>4</th>\n",
       "      <td>27836</td>\n",
       "      <td>NaT</td>\n",
       "      <td>NaT</td>\n",
       "      <td>NaT</td>\n",
       "      <td>2018-01-01 13:28:07</td>\n",
       "      <td>2018-01-01 15:42:58</td>\n",
       "      <td>2018-01-01 14:54:40</td>\n",
       "    </tr>\n",
       "  </tbody>\n",
       "</table>\n",
       "</div>"
      ],
      "text/plain": [
       "event_type  user_id        level_choice         pack_choice purchase  \\\n",
       "0             27832                 NaT                 NaT      NaT   \n",
       "1             27833                 NaT                 NaT      NaT   \n",
       "2             27834                 NaT                 NaT      NaT   \n",
       "3             27835 2018-01-01 20:37:22 2018-01-01 20:38:43      NaT   \n",
       "4             27836                 NaT                 NaT      NaT   \n",
       "\n",
       "event_type        registration     tutorial_finish      tutorial_start  \n",
       "0          2018-01-01 03:48:40                 NaT                 NaT  \n",
       "1          2018-01-01 04:07:25 2018-01-01 17:50:08 2018-01-01 17:47:40  \n",
       "2          2018-01-01 08:35:10 2018-01-01 19:48:01 2018-01-01 19:46:11  \n",
       "3          2018-01-01 11:54:47 2018-01-01 15:06:15 2018-01-01 15:00:51  \n",
       "4          2018-01-01 13:28:07 2018-01-01 15:42:58 2018-01-01 14:54:40  "
      ]
     },
     "metadata": {},
     "output_type": "display_data"
    }
   ],
   "source": [
    "# Формируем сводную таблицу вида: \n",
    "#   - строки: идентификатор пользователя\n",
    "#   - столбцы: тип игрового события\n",
    "#   - значения: время самого раннего проявления события\n",
    "# Также сразу сбросим индекс, для формирования столбца из индекса user_id\n",
    "\n",
    "pvt_id_vs_timing = all_events_df.pivot_table(\n",
    "    index = 'user_id',\n",
    "    columns = 'event_type',\n",
    "    values = 'start_time',\n",
    "    aggfunc = 'min'\n",
    ").reset_index()\n",
    "\n",
    "# вывод для проверки результата\n",
    "display(pvt_id_vs_timing.info())\n",
    "display(pvt_id_vs_timing.head())"
   ]
  },
  {
   "attachments": {},
   "cell_type": "markdown",
   "metadata": {},
   "source": [
    "У нас имеется значительное количество \"мертвых душ\", зарегистрированных в игре, но не начинавших ее. Поскольку для проверки гипотез они не дают какой-либо ценной информации, доочистим данные от этой категории по признаку level_choice."
   ]
  },
  {
   "cell_type": "code",
   "execution_count": 13,
   "metadata": {},
   "outputs": [
    {
     "name": "stdout",
     "output_type": "stream",
     "text": [
      "<class 'pandas.core.frame.DataFrame'>\n",
      "RangeIndex: 8338 entries, 0 to 8337\n",
      "Data columns (total 8 columns):\n",
      " #   Column           Non-Null Count  Dtype         \n",
      "---  ------           --------------  -----         \n",
      " 0   index            8338 non-null   int64         \n",
      " 1   user_id          8338 non-null   int64         \n",
      " 2   level_choice     8338 non-null   datetime64[ns]\n",
      " 3   pack_choice      5735 non-null   datetime64[ns]\n",
      " 4   purchase         1600 non-null   datetime64[ns]\n",
      " 5   registration     8338 non-null   datetime64[ns]\n",
      " 6   tutorial_finish  7497 non-null   datetime64[ns]\n",
      " 7   tutorial_start   8240 non-null   datetime64[ns]\n",
      "dtypes: datetime64[ns](6), int64(2)\n",
      "memory usage: 521.3 KB\n"
     ]
    },
    {
     "data": {
      "text/plain": [
       "None"
      ]
     },
     "metadata": {},
     "output_type": "display_data"
    },
    {
     "data": {
      "text/html": [
       "<div>\n",
       "<style scoped>\n",
       "    .dataframe tbody tr th:only-of-type {\n",
       "        vertical-align: middle;\n",
       "    }\n",
       "\n",
       "    .dataframe tbody tr th {\n",
       "        vertical-align: top;\n",
       "    }\n",
       "\n",
       "    .dataframe thead th {\n",
       "        text-align: right;\n",
       "    }\n",
       "</style>\n",
       "<table border=\"1\" class=\"dataframe\">\n",
       "  <thead>\n",
       "    <tr style=\"text-align: right;\">\n",
       "      <th>event_type</th>\n",
       "      <th>index</th>\n",
       "      <th>user_id</th>\n",
       "      <th>level_choice</th>\n",
       "      <th>pack_choice</th>\n",
       "      <th>purchase</th>\n",
       "      <th>registration</th>\n",
       "      <th>tutorial_finish</th>\n",
       "      <th>tutorial_start</th>\n",
       "    </tr>\n",
       "  </thead>\n",
       "  <tbody>\n",
       "    <tr>\n",
       "      <th>0</th>\n",
       "      <td>3</td>\n",
       "      <td>27835</td>\n",
       "      <td>2018-01-01 20:37:22</td>\n",
       "      <td>2018-01-01 20:38:43</td>\n",
       "      <td>NaT</td>\n",
       "      <td>2018-01-01 11:54:47</td>\n",
       "      <td>2018-01-01 15:06:15</td>\n",
       "      <td>2018-01-01 15:00:51</td>\n",
       "    </tr>\n",
       "    <tr>\n",
       "      <th>1</th>\n",
       "      <td>7</td>\n",
       "      <td>27839</td>\n",
       "      <td>2018-01-01 22:37:50</td>\n",
       "      <td>2018-01-01 22:42:54</td>\n",
       "      <td>NaT</td>\n",
       "      <td>2018-01-01 18:24:01</td>\n",
       "      <td>2018-01-01 19:16:32</td>\n",
       "      <td>2018-01-01 19:11:36</td>\n",
       "    </tr>\n",
       "    <tr>\n",
       "      <th>2</th>\n",
       "      <td>8</td>\n",
       "      <td>27840</td>\n",
       "      <td>2018-01-02 05:18:42</td>\n",
       "      <td>NaT</td>\n",
       "      <td>NaT</td>\n",
       "      <td>2018-01-01 20:53:21</td>\n",
       "      <td>NaT</td>\n",
       "      <td>2018-01-02 02:07:07</td>\n",
       "    </tr>\n",
       "    <tr>\n",
       "      <th>3</th>\n",
       "      <td>10</td>\n",
       "      <td>27842</td>\n",
       "      <td>2018-01-02 08:46:03</td>\n",
       "      <td>NaT</td>\n",
       "      <td>NaT</td>\n",
       "      <td>2018-01-01 23:18:46</td>\n",
       "      <td>2018-01-02 04:57:01</td>\n",
       "      <td>2018-01-02 04:55:11</td>\n",
       "    </tr>\n",
       "    <tr>\n",
       "      <th>4</th>\n",
       "      <td>11</td>\n",
       "      <td>27843</td>\n",
       "      <td>2018-01-02 14:09:58</td>\n",
       "      <td>2018-01-02 14:14:51</td>\n",
       "      <td>NaT</td>\n",
       "      <td>2018-01-02 00:02:28</td>\n",
       "      <td>2018-01-02 13:38:23</td>\n",
       "      <td>2018-01-02 13:34:51</td>\n",
       "    </tr>\n",
       "  </tbody>\n",
       "</table>\n",
       "</div>"
      ],
      "text/plain": [
       "event_type  index  user_id        level_choice         pack_choice purchase  \\\n",
       "0               3    27835 2018-01-01 20:37:22 2018-01-01 20:38:43      NaT   \n",
       "1               7    27839 2018-01-01 22:37:50 2018-01-01 22:42:54      NaT   \n",
       "2               8    27840 2018-01-02 05:18:42                 NaT      NaT   \n",
       "3              10    27842 2018-01-02 08:46:03                 NaT      NaT   \n",
       "4              11    27843 2018-01-02 14:09:58 2018-01-02 14:14:51      NaT   \n",
       "\n",
       "event_type        registration     tutorial_finish      tutorial_start  \n",
       "0          2018-01-01 11:54:47 2018-01-01 15:06:15 2018-01-01 15:00:51  \n",
       "1          2018-01-01 18:24:01 2018-01-01 19:16:32 2018-01-01 19:11:36  \n",
       "2          2018-01-01 20:53:21                 NaT 2018-01-02 02:07:07  \n",
       "3          2018-01-01 23:18:46 2018-01-02 04:57:01 2018-01-02 04:55:11  \n",
       "4          2018-01-02 00:02:28 2018-01-02 13:38:23 2018-01-02 13:34:51  "
      ]
     },
     "metadata": {},
     "output_type": "display_data"
    }
   ],
   "source": [
    "# инициализируем маску поиска начинавших игру\n",
    "musk_A = pvt_id_vs_timing['level_choice'].notna()\n",
    "\n",
    "# доочистим датафрейм от неактивных игроков\n",
    "pvt_id_vs_timing = pvt_id_vs_timing[musk_A].reset_index()\n",
    "\n",
    "# вывод для проверки результата\n",
    "display(pvt_id_vs_timing.info())\n",
    "display(pvt_id_vs_timing.head())"
   ]
  },
  {
   "cell_type": "code",
   "execution_count": 14,
   "metadata": {},
   "outputs": [],
   "source": [
    "# Создаем множества id пользователей по их отношению к прохождению обучения. \n",
    "# На основании принадлежности пользователя к множеству далее будем ему присваивать соответствующий статус.\n",
    "\n",
    "# set_users_tutorial_complete - множество id пользователей, закончивших обучение\n",
    "set_users_tutorial_complete = set(\n",
    "    all_events_df[all_events_df.event_type == 'tutorial_finish'].user_id\n",
    ")\n",
    "\n",
    "# set_users_tutorial_incomplete - множество id пользователей, начавших и не закончивших обучение\n",
    "set_users_tutorial_incomplete = set(\n",
    "    all_events_df[all_events_df.event_type == 'tutorial_start'].user_id\n",
    ")\n",
    "\n",
    "# set_users_tutorial_skipped - множество id пользователей, не начинавших обучение.\n",
    "# формируем его, вычитая из множества всех пользователей множество начавших обучение\n",
    "set_users_tutorial_skipped = set(all_events_df.user_id) - set_users_tutorial_incomplete"
   ]
  },
  {
   "cell_type": "code",
   "execution_count": 15,
   "metadata": {},
   "outputs": [],
   "source": [
    "# Определяем функцию, возвращающую статус пользователя, на основании принадлежности множествам, определенным выше\n",
    "def user_tutorial_status(user_id: int):\n",
    "    if user_id in set_users_tutorial_complete: \n",
    "        return 'complete'\n",
    "    elif user_id in set_users_tutorial_incomplete: \n",
    "        return 'incomplete'\n",
    "    else: \n",
    "        return 'skipped'"
   ]
  },
  {
   "cell_type": "code",
   "execution_count": 16,
   "metadata": {},
   "outputs": [],
   "source": [
    "# Создаем новый столбец с признаком tutorial_status в сводной таблице pvt_id_vs_timing, \n",
    "# применив функцию user_tutorial_status() к столбцу user_id:\n",
    "\n",
    "pvt_id_vs_timing['tutorial_status'] = pvt_id_vs_timing.user_id.apply(user_tutorial_status)"
   ]
  },
  {
   "attachments": {},
   "cell_type": "markdown",
   "metadata": {},
   "source": [
    "Удаляем информацию по начавшим, но не закончившим обучение, поскольку эта группа не дает информации для проверки гипотезы."
   ]
  },
  {
   "cell_type": "code",
   "execution_count": 17,
   "metadata": {},
   "outputs": [],
   "source": [
    "pvt_id_vs_timing = pvt_id_vs_timing[pvt_id_vs_timing['tutorial_status'] != 'incomplete']"
   ]
  },
  {
   "attachments": {},
   "cell_type": "markdown",
   "metadata": {},
   "source": [
    "### 3.2. Нахождение временных интервалов по этапам игры"
   ]
  },
  {
   "attachments": {},
   "cell_type": "markdown",
   "metadata": {},
   "source": [
    "Определимся с интервалами времени, по которым поведем сравнительный анализ. <br>\n",
    "Очевидно, что группы \"прошедшие обучение\" и \"не начавшие обучение\" будут отличаться временем, потраченным в игре на прохождения обучения, у последних оно нулевое. \n",
    "Анализировать эту разницу нет смысла, засим предлагается:\n",
    " - не рассматривать временные интервалы, связанные со стартом и завершением обучения;\n",
    " - первым интервалом считать время от регистрации до выбора сложности;\n",
    " - нормализовать время выполнения первого интервала для \"обученных\", вычитая из него время, потраченное на обучение.\n",
    "\n",
    "Таким образом, далее будем сравнивать 3 временных интервала:\n",
    "- от регистрации до выбора уровня сложности (нормализованное);\n",
    "- от выбора уровня до выбора пакета вопросов;\n",
    "- от выбора пакета вопросов до оплаты дополнительного контента."
   ]
  },
  {
   "cell_type": "code",
   "execution_count": 18,
   "metadata": {},
   "outputs": [],
   "source": [
    "# Рассчитаем полную длительность 1 периода от регистрации до выбора уровня; приведем к значению в часах\n",
    "\n",
    "one_hour = pd.Timedelta('1 hour')\n",
    "\n",
    "pvt_id_vs_timing['level_choice_delay'] = \\\n",
    "    (pvt_id_vs_timing.level_choice - pvt_id_vs_timing.registration) / one_hour\n",
    "\n",
    "# найдем время обучения, в часах\n",
    "pvt_id_vs_timing['tutorial_duration'] = \\\n",
    "    (pvt_id_vs_timing.tutorial_finish - pvt_id_vs_timing.tutorial_start) / one_hour\n",
    "# для пропустивших обучение, его время установим равным нулю\n",
    "pvt_id_vs_timing['tutorial_duration'] = pvt_id_vs_timing['tutorial_duration'].fillna(0)\n",
    "\n",
    "# найдем нормализованную длительность 1 периода от регистрации до выбора уровня\n",
    "pvt_id_vs_timing['level_choice_delay'] = \\\n",
    "    pvt_id_vs_timing.level_choice_delay - pvt_id_vs_timing.tutorial_duration"
   ]
  },
  {
   "cell_type": "code",
   "execution_count": 19,
   "metadata": {},
   "outputs": [],
   "source": [
    "# вычисляем длительность 2 периода от выбора уровня сложности до выбора бесплатных пакетов вопросов, в часах\n",
    "pvt_id_vs_timing['pack_choice_delay'] = \\\n",
    "    (pvt_id_vs_timing.pack_choice - pvt_id_vs_timing.level_choice) / one_hour\n",
    "\n",
    "# вычисляем длительность 3 периода от выбора бесплатных пакетов вопросов до покупки дополнительного контента, в часах\n",
    "pvt_id_vs_timing['purchase_delay'] = \\\n",
    "    (pvt_id_vs_timing.purchase - pvt_id_vs_timing.pack_choice) / one_hour"
   ]
  },
  {
   "cell_type": "code",
   "execution_count": 20,
   "metadata": {},
   "outputs": [
    {
     "data": {
      "text/html": [
       "<div>\n",
       "<style scoped>\n",
       "    .dataframe tbody tr th:only-of-type {\n",
       "        vertical-align: middle;\n",
       "    }\n",
       "\n",
       "    .dataframe tbody tr th {\n",
       "        vertical-align: top;\n",
       "    }\n",
       "\n",
       "    .dataframe thead th {\n",
       "        text-align: right;\n",
       "    }\n",
       "</style>\n",
       "<table border=\"1\" class=\"dataframe\">\n",
       "  <thead>\n",
       "    <tr style=\"text-align: right;\">\n",
       "      <th>event_type</th>\n",
       "      <th>index</th>\n",
       "      <th>user_id</th>\n",
       "      <th>level_choice</th>\n",
       "      <th>pack_choice</th>\n",
       "      <th>purchase</th>\n",
       "      <th>registration</th>\n",
       "      <th>tutorial_finish</th>\n",
       "      <th>tutorial_start</th>\n",
       "      <th>level_choice_delay</th>\n",
       "      <th>tutorial_duration</th>\n",
       "      <th>pack_choice_delay</th>\n",
       "      <th>purchase_delay</th>\n",
       "    </tr>\n",
       "  </thead>\n",
       "  <tbody>\n",
       "    <tr>\n",
       "      <th>count</th>\n",
       "      <td>7595.000000</td>\n",
       "      <td>7595.000000</td>\n",
       "      <td>7595</td>\n",
       "      <td>5248</td>\n",
       "      <td>1469</td>\n",
       "      <td>7595</td>\n",
       "      <td>7497</td>\n",
       "      <td>7497</td>\n",
       "      <td>7595.000000</td>\n",
       "      <td>7595.000000</td>\n",
       "      <td>5248.000000</td>\n",
       "      <td>1469.000000</td>\n",
       "    </tr>\n",
       "    <tr>\n",
       "      <th>mean</th>\n",
       "      <td>9981.395523</td>\n",
       "      <td>37813.395523</td>\n",
       "      <td>2018-07-03 23:54:01.847267840</td>\n",
       "      <td>2018-07-04 17:28:02.698932992</td>\n",
       "      <td>2018-07-06 01:27:50.485364224</td>\n",
       "      <td>2018-07-03 16:49:49.669782784</td>\n",
       "      <td>2018-07-03 23:23:43.431906048</td>\n",
       "      <td>2018-07-03 23:11:00.778711552</td>\n",
       "      <td>6.860935</td>\n",
       "      <td>0.209115</td>\n",
       "      <td>0.088397</td>\n",
       "      <td>89.472517</td>\n",
       "    </tr>\n",
       "    <tr>\n",
       "      <th>min</th>\n",
       "      <td>3.000000</td>\n",
       "      <td>27835.000000</td>\n",
       "      <td>2018-01-01 20:37:22</td>\n",
       "      <td>2018-01-01 20:38:43</td>\n",
       "      <td>2018-01-03 18:53:43</td>\n",
       "      <td>2018-01-01 11:54:47</td>\n",
       "      <td>2018-01-01 15:06:15</td>\n",
       "      <td>2018-01-01 15:00:51</td>\n",
       "      <td>0.071667</td>\n",
       "      <td>0.000000</td>\n",
       "      <td>0.005278</td>\n",
       "      <td>0.747222</td>\n",
       "    </tr>\n",
       "    <tr>\n",
       "      <th>25%</th>\n",
       "      <td>5019.000000</td>\n",
       "      <td>32851.000000</td>\n",
       "      <td>2018-03-24 14:15:39.500000</td>\n",
       "      <td>2018-03-25 04:48:37.750000128</td>\n",
       "      <td>2018-03-27 17:20:47</td>\n",
       "      <td>2018-03-24 09:23:01.500000</td>\n",
       "      <td>2018-03-24 10:30:03</td>\n",
       "      <td>2018-03-24 10:28:43</td>\n",
       "      <td>3.690833</td>\n",
       "      <td>0.040833</td>\n",
       "      <td>0.051389</td>\n",
       "      <td>45.402222</td>\n",
       "    </tr>\n",
       "    <tr>\n",
       "      <th>50%</th>\n",
       "      <td>9865.000000</td>\n",
       "      <td>37697.000000</td>\n",
       "      <td>2018-06-23 18:34:44</td>\n",
       "      <td>2018-06-25 12:56:19</td>\n",
       "      <td>2018-06-26 00:55:06</td>\n",
       "      <td>2018-06-23 15:04:08</td>\n",
       "      <td>2018-06-23 17:57:05</td>\n",
       "      <td>2018-06-23 17:37:33</td>\n",
       "      <td>5.786667</td>\n",
       "      <td>0.062778</td>\n",
       "      <td>0.082778</td>\n",
       "      <td>84.503611</td>\n",
       "    </tr>\n",
       "    <tr>\n",
       "      <th>75%</th>\n",
       "      <td>15003.500000</td>\n",
       "      <td>42835.500000</td>\n",
       "      <td>2018-10-14 01:03:51.500000</td>\n",
       "      <td>2018-10-15 17:40:31.750000128</td>\n",
       "      <td>2018-10-20 05:31:44</td>\n",
       "      <td>2018-10-13 15:36:35.500000</td>\n",
       "      <td>2018-10-13 22:47:45</td>\n",
       "      <td>2018-10-13 22:41:05</td>\n",
       "      <td>9.095000</td>\n",
       "      <td>0.088333</td>\n",
       "      <td>0.119722</td>\n",
       "      <td>129.131944</td>\n",
       "    </tr>\n",
       "    <tr>\n",
       "      <th>max</th>\n",
       "      <td>19912.000000</td>\n",
       "      <td>47744.000000</td>\n",
       "      <td>2018-12-31 09:59:00</td>\n",
       "      <td>2018-12-31 10:05:18</td>\n",
       "      <td>2019-01-06 07:14:25</td>\n",
       "      <td>2018-12-30 22:12:24</td>\n",
       "      <td>2018-12-31 07:21:02</td>\n",
       "      <td>2018-12-31 07:14:38</td>\n",
       "      <td>42.750000</td>\n",
       "      <td>18.908056</td>\n",
       "      <td>0.263333</td>\n",
       "      <td>258.566389</td>\n",
       "    </tr>\n",
       "    <tr>\n",
       "      <th>std</th>\n",
       "      <td>5768.918022</td>\n",
       "      <td>5768.918022</td>\n",
       "      <td>NaN</td>\n",
       "      <td>NaN</td>\n",
       "      <td>NaN</td>\n",
       "      <td>NaN</td>\n",
       "      <td>NaN</td>\n",
       "      <td>NaN</td>\n",
       "      <td>4.438245</td>\n",
       "      <td>1.079719</td>\n",
       "      <td>0.045740</td>\n",
       "      <td>52.540439</td>\n",
       "    </tr>\n",
       "  </tbody>\n",
       "</table>\n",
       "</div>"
      ],
      "text/plain": [
       "event_type         index       user_id                   level_choice  \\\n",
       "count        7595.000000   7595.000000                           7595   \n",
       "mean         9981.395523  37813.395523  2018-07-03 23:54:01.847267840   \n",
       "min             3.000000  27835.000000            2018-01-01 20:37:22   \n",
       "25%          5019.000000  32851.000000     2018-03-24 14:15:39.500000   \n",
       "50%          9865.000000  37697.000000            2018-06-23 18:34:44   \n",
       "75%         15003.500000  42835.500000     2018-10-14 01:03:51.500000   \n",
       "max         19912.000000  47744.000000            2018-12-31 09:59:00   \n",
       "std          5768.918022   5768.918022                            NaN   \n",
       "\n",
       "event_type                    pack_choice                       purchase  \\\n",
       "count                                5248                           1469   \n",
       "mean        2018-07-04 17:28:02.698932992  2018-07-06 01:27:50.485364224   \n",
       "min                   2018-01-01 20:38:43            2018-01-03 18:53:43   \n",
       "25%         2018-03-25 04:48:37.750000128            2018-03-27 17:20:47   \n",
       "50%                   2018-06-25 12:56:19            2018-06-26 00:55:06   \n",
       "75%         2018-10-15 17:40:31.750000128            2018-10-20 05:31:44   \n",
       "max                   2018-12-31 10:05:18            2019-01-06 07:14:25   \n",
       "std                                   NaN                            NaN   \n",
       "\n",
       "event_type                   registration                tutorial_finish  \\\n",
       "count                                7595                           7497   \n",
       "mean        2018-07-03 16:49:49.669782784  2018-07-03 23:23:43.431906048   \n",
       "min                   2018-01-01 11:54:47            2018-01-01 15:06:15   \n",
       "25%            2018-03-24 09:23:01.500000            2018-03-24 10:30:03   \n",
       "50%                   2018-06-23 15:04:08            2018-06-23 17:57:05   \n",
       "75%            2018-10-13 15:36:35.500000            2018-10-13 22:47:45   \n",
       "max                   2018-12-30 22:12:24            2018-12-31 07:21:02   \n",
       "std                                   NaN                            NaN   \n",
       "\n",
       "event_type                 tutorial_start  level_choice_delay  \\\n",
       "count                                7497         7595.000000   \n",
       "mean        2018-07-03 23:11:00.778711552            6.860935   \n",
       "min                   2018-01-01 15:00:51            0.071667   \n",
       "25%                   2018-03-24 10:28:43            3.690833   \n",
       "50%                   2018-06-23 17:37:33            5.786667   \n",
       "75%                   2018-10-13 22:41:05            9.095000   \n",
       "max                   2018-12-31 07:14:38           42.750000   \n",
       "std                                   NaN            4.438245   \n",
       "\n",
       "event_type  tutorial_duration  pack_choice_delay  purchase_delay  \n",
       "count             7595.000000        5248.000000     1469.000000  \n",
       "mean                 0.209115           0.088397       89.472517  \n",
       "min                  0.000000           0.005278        0.747222  \n",
       "25%                  0.040833           0.051389       45.402222  \n",
       "50%                  0.062778           0.082778       84.503611  \n",
       "75%                  0.088333           0.119722      129.131944  \n",
       "max                 18.908056           0.263333      258.566389  \n",
       "std                  1.079719           0.045740       52.540439  "
      ]
     },
     "execution_count": 20,
     "metadata": {},
     "output_type": "execute_result"
    }
   ],
   "source": [
    "# проверим полученную таблицу на адекватность результатов \n",
    "pvt_id_vs_timing.describe()"
   ]
  },
  {
   "attachments": {},
   "cell_type": "markdown",
   "metadata": {},
   "source": [
    "Явных аномалий нет, однако длительность первого этапа довольно значительная, в среднем почти 7 часов, медиана около 6 часов. Пользователи неохотно приступают к игровому процессу."
   ]
  },
  {
   "cell_type": "code",
   "execution_count": 21,
   "metadata": {},
   "outputs": [],
   "source": [
    "# На основании длительностей этапов по пользователям формируем сводную таблицу\n",
    "# для групп пользователей \"прошедшие обучение\" / \"не начинавшие обучение\",\n",
    "# со средними значениями времени прохождения этапов игры. \n",
    "pvt_tutorial_vs_time = pvt_id_vs_timing.pivot_table(index='tutorial_status',\n",
    "                                                               values=['level_choice_delay','pack_choice_delay','purchase_delay'],\n",
    "                                                               aggfunc='mean')"
   ]
  },
  {
   "attachments": {},
   "cell_type": "markdown",
   "metadata": {},
   "source": [
    "### 3.3. Оформление результатов, выводы"
   ]
  },
  {
   "cell_type": "code",
   "execution_count": 22,
   "metadata": {},
   "outputs": [
    {
     "data": {
      "image/png": "[encoded data removed]",
      "text/plain": [
       "<Figure size 1500x400 with 3 Axes>"
      ]
     },
     "metadata": {},
     "output_type": "display_data"
    }
   ],
   "source": [
    "# строим столбчатые диаграммы по длительности 3 этапов, в разрезе обученности участников\n",
    "fig, axes = plt.subplots(nrows=1, ncols=3, figsize=(15, 4))\n",
    "barcolors = ['xkcd:orange', 'xkcd:azure']\n",
    "\n",
    "# Рис. 1. регистрация -> выбор сложности\n",
    "pic1 = axes[0].bar(x = pvt_tutorial_vs_time.index, \n",
    "                    height = pvt_tutorial_vs_time.level_choice_delay,\n",
    "                    width = 0.65,\n",
    "                    edgecolor=\"black\", \n",
    "                    linewidth=0.7,\n",
    "                    color = barcolors\n",
    "                    )\n",
    "\n",
    "axes[0].set_title('регистрация -> выбор сложности (часы)')\n",
    "axes[0].bar_label(pic1, fmt='%.1f', label_type = 'center')\n",
    "\n",
    "# Рис. 2. выбор сложности -> выбор вопросов \n",
    "barcolors = ['xkcd:cherry red', 'xkcd:steel']\n",
    "pic2 = axes[1].bar(x = pvt_tutorial_vs_time.index, \n",
    "                    height = pvt_tutorial_vs_time.pack_choice_delay * 60,\n",
    "                    width = 0.65,\n",
    "                    edgecolor=\"black\", \n",
    "                    linewidth=0.7,\n",
    "                    color = barcolors\n",
    "                    )\n",
    "axes[1].set_title('выбор сложности -> выбор вопросов (минуты)')\n",
    "axes[1].bar_label(pic2, fmt='%.1f', label_type = 'center')\n",
    "\n",
    "# Рис. 3. выбор вопросов -> оплата контента\n",
    "barcolors = ['xkcd:avocado', 'xkcd:light plum']\n",
    "pic3 = axes[2].bar(x = pvt_tutorial_vs_time.index, \n",
    "                    height = pvt_tutorial_vs_time.purchase_delay,\n",
    "                    width = 0.65,\n",
    "                    edgecolor=\"black\", \n",
    "                    linewidth=0.7,\n",
    "                    color = barcolors\n",
    "                    )\n",
    "axes[2].set_title('выбор вопросов -> оплата контента  (часы)')\n",
    "axes[2].bar_label(pic3, fmt='%.1f', label_type = 'center')\n",
    "\n",
    "plt.show()"
   ]
  },
  {
   "attachments": {},
   "cell_type": "markdown",
   "metadata": {},
   "source": [
    "Согласно полученным данным (3-й график), пользователи из группы прошедших обучение, принимают решение о покупке дополнительного контента быстрее, чем игнорировавшие обучение. Логично предположить, что неподготовленные пользователи имеют впоследствии затруднения с прохождением игры. \n",
    "\n",
    "\n",
    "Также обращает на себя внимание различное время (1-й график) от регистрации пользователя до выбора уровня сложности игры. Прошедшие обучение затрачивают времени на полтора часа больше необученных (время обучения здесь не учитывается). Возможно, материалы обучения вызывают вопросы у пользователя, ему требуется изучение дополнительных материалов, либо повторное обучение.  \n",
    "\n",
    "Этап перехода от выбора уровня сложности к выбору пакета вопросов имеет очень короткий тайминг относительно игрового времени (2-й график), очевидно он не несет полезной информации для данного исследования.\n",
    "\n",
    "<font color=\"green\">Итак, факт обучения разнонаправленно влияет на время прохождения этапов игры для лояльных игроков. С одной стороны, он отдаляет время начала игры. С другой стороны, он существенно приближает принятие решения о покупке.</font >"
   ]
  },
  {
   "attachments": {},
   "cell_type": "markdown",
   "metadata": {},
   "source": [
    "## 4. Гипотеза 2. Зависимость вероятности оплаты от количества обучений."
   ]
  },
  {
   "attachments": {},
   "cell_type": "markdown",
   "metadata": {},
   "source": [
    "*Проверить*, существует ли зависимость между вероятностью оплаты вопросов и количеством обучений, которые начинал или завершал пользователь."
   ]
  },
  {
   "attachments": {},
   "cell_type": "markdown",
   "metadata": {},
   "source": [
    "### 4.1. Группировка данных в таблицы\n"
   ]
  },
  {
   "attachments": {},
   "cell_type": "markdown",
   "metadata": {},
   "source": [
    "Фактически, нам необходимо сформировать две таблицы с группами пользователей, содержимое которых и даст ответ, верна ли гипотеза:\n",
    "- \"количество начавших обучение N раз\" - \"количество оплат от этой группы\";\n",
    "- \"количество завершивших обучение N раз\" - \"количество оплат от этой группы\"."
   ]
  },
  {
   "cell_type": "code",
   "execution_count": 23,
   "metadata": {},
   "outputs": [],
   "source": [
    "# Создаем временные датафреймы, для последующей консолидации в группы пользователей:\n",
    "\n",
    "# tutorial_events - копия датафрейма игровых событий event_df, с усеченным набором столбцов\n",
    "tutorial_events = event_df.drop(['event_id',\n",
    "                                 'selected_level',\n",
    "                                 'start_time'],\n",
    "                                 axis=1)\n",
    "\n",
    "# tutorial_starters - датафрейм с количеством событий \"начало обучения\" по каждому пользователю\n",
    "tutorial_starters = tutorial_events.groupby(by='user_id')['tutorial_id'].nunique().reset_index()\n",
    "tutorial_starters.columns = ['user_id','started']\n",
    "\n",
    "# tutorial_graduated  - датафрейм с количеством событий \"завершение обучения\" по каждому пользователю\n",
    "tutorial_graduated = tutorial_events[\n",
    "                    tutorial_events.event_type=='tutorial_finish'\n",
    "                    ].groupby(by='user_id')['tutorial_id'].nunique().reset_index()\n",
    "tutorial_graduated.columns = ['user_id','finished']\n",
    "\n",
    "# purchase_events - датафрейм с количеством оплат по каждому пользователю\n",
    "purchase_events = purch_df.drop(['event_type','start_time','amount'],axis=1)\n",
    "purchase_events = purchase_events.groupby(by='user_id')['purchase_id'].nunique().reset_index()\n",
    "purchase_events.columns = ['user_id','purchased']"
   ]
  },
  {
   "cell_type": "code",
   "execution_count": 24,
   "metadata": {},
   "outputs": [],
   "source": [
    "# к данным по количеству событий обучения пользователей добавляем данные по количеству оплат:\n",
    "\n",
    "# starters_pack - количество событий \"начало обучения\" плюс количество оплат по каждому пользователю\n",
    "starters_pack = pd.merge(tutorial_starters, purchase_events, how='left', on='user_id').fillna(0)\n",
    "# graduated_pack - количество событий \"завершение обучения\" плюс количество оплат по каждому пользователю\n",
    "graduated_pack = pd.merge(tutorial_graduated, purchase_events, how='left', on='user_id').fillna(0)\n",
    "\n",
    "# консолидируем эти таблицы в группы пользователей, в зависимости от количества\n",
    "# игровых событий \"начало обучения\"/\"завершение обучения\". \n",
    "# Получаем требуемые для проверки гипотезы две таблицы.\n",
    "starters_pack = starters_pack.groupby('started')['purchased'].sum()\n",
    "graduated_pack = graduated_pack.groupby('finished')['purchased'].sum()"
   ]
  },
  {
   "attachments": {},
   "cell_type": "markdown",
   "metadata": {},
   "source": [
    "### 4.2. Оформление результатов, выводы "
   ]
  },
  {
   "cell_type": "code",
   "execution_count": 25,
   "metadata": {},
   "outputs": [],
   "source": [
    "# найдем верхнее значение показателей, для масштабирования оси Y\n",
    "y_top = max(starters_pack.values.max(), graduated_pack.values.max())"
   ]
  },
  {
   "cell_type": "code",
   "execution_count": 26,
   "metadata": {},
   "outputs": [
    {
     "data": {
      "image/png": "[encoded data removed]",
      "text/plain": [
       "<Figure size 1200x600 with 2 Axes>"
      ]
     },
     "metadata": {},
     "output_type": "display_data"
    }
   ],
   "source": [
    "# строим столбчатые диаграммы по длительности 3 этапов, в разрезе обученности участников\n",
    "\n",
    "fig, axes = plt.subplots(nrows=1, ncols=2, figsize=(12, 6))\n",
    "\n",
    "# Рис 1. Стартов обучения Vs Произвели оплату\n",
    "pic1 = axes[0].bar(x = starters_pack.index, \n",
    "                    height = starters_pack.values,\n",
    "                    width = 0.65,\n",
    "                    edgecolor=\"black\", \n",
    "                    linewidth=0.8,\n",
    "                    color = 'xkcd:slate blue'\n",
    "                    )\n",
    "\n",
    "axes[0].set_title('Стартов обучения Vs Произвели оплату')\n",
    "axes[0].bar_label(pic1, fmt='%d', label_type = 'edge')\n",
    "axes[0].set_ylim(bottom=0, top=y_top*1.05)\n",
    "\n",
    "# Рис 2. Завершений обучения Vs Произвели оплату\n",
    "pic2 = axes[1].bar(x = graduated_pack.index, \n",
    "                    height = graduated_pack.values,\n",
    "                    width = 0.65,\n",
    "                    edgecolor=\"black\", \n",
    "                    linewidth=0.7,\n",
    "                    color = 'xkcd:maize'\n",
    "                    )\n",
    "axes[1].set_title('Завершений обучения Vs Произвели оплату')\n",
    "axes[1].bar_label(pic2, fmt='%d', label_type = 'edge')\n",
    "axes[1].set_ylim(bottom=0, top=y_top*1.05)\n",
    "\n",
    "plt.show()"
   ]
  },
  {
   "attachments": {},
   "cell_type": "markdown",
   "metadata": {},
   "source": [
    "Первое, что можно отметить в полученных результатах - имеются случаи многократных запусков обучающего курса, максимальное количество - 9. Аналогичный \"антирекорд\" по количеству завершенных процессов обучения. Очевидно, что такие множественные попытки не являются нормой. \n",
    "\n",
    "В целом показатели у завершивших обучение и незакончивших похожи. Наиболее лояльной аудиторией являются однократно прошедшие/начавшие обучение. Необходимость вернуться к обучению повторно уменьшает вероятность оплаты приблизительно в 6 раз. Многократно начинавшие обучение (более 3 раз) имеют худшую лояльность, чем не обучавшиеся вовсе. \n",
    "Далее результаты несколько разнятся, у незакончивших небольшой взлет лояльности, а у завершивших - тренд исключительно понижающийся. Причину разницы можно объяснить тем, что начавшие получили в процессе обучения объяснение факта непрозрачности и вернулись к игровому процессу. Прошедшие же до конца обучения, скорее всего, не нашли ответов в очередной раз и утратили интерес к игре.\n",
    "\n",
    "<font color=\"green\">Итак, вероятность продать дополнительный контент для начавших обучение повторно стремительно падает с количеством возвратов к обучению.</font>"
   ]
  },
  {
   "attachments": {},
   "cell_type": "markdown",
   "metadata": {},
   "source": [
    "## 5. Гипотеза 3. Возвращаемость к обучению из игрового процесса"
   ]
  },
  {
   "attachments": {},
   "cell_type": "markdown",
   "metadata": {},
   "source": [
    "*Выяснить*, как часто пользователи начинают обучение после выбора уровня сложности. (Это позволит оценить прозрачность процесса взаимодействия с игрой: если пользователи после выбора уровня сложности обращаются к обучению, значит, работа с приложением непонятна.)"
   ]
  },
  {
   "attachments": {},
   "cell_type": "markdown",
   "metadata": {},
   "source": [
    "Для ответа на поставленный вопрос нужно выбрать игроков, у которых время самого позднего события 'tutorial_start' превышает время выбора уровня 'level_choice'. Далее найти долю таких игроков среди всех, выбравших уровень сложности. <br>\n",
    "Игроков, которые еще не выбрали уровень сложности, в расчет не берем."
   ]
  },
  {
   "cell_type": "code",
   "execution_count": 27,
   "metadata": {},
   "outputs": [],
   "source": [
    "# Инициализируем маски, для выбора необходимых событий из датафрейма events_df\n",
    "musk_A = event_df['event_type'] == 'level_choice'\n",
    "musk_B = event_df['event_type'] == 'tutorial_start'\n",
    "\n",
    "# формируем сводную таблицу с максимальными таймингами событий 'level_choice'\n",
    "# и 'tutorial_start': \n",
    "# - строки - id пользователей\n",
    "# - столбцы - виды событий\n",
    "# - значения - максимальное время события\n",
    "# отбрасываем игроков, у которых событие \"выбор уровня сложности\" отсутствует\n",
    "pvt_bak2skul = event_df[musk_A|musk_B].pivot_table(index = 'user_id',\n",
    "                                                columns = 'event_type',\n",
    "                                                values = 'start_time',\n",
    "                                                aggfunc = 'max').dropna(subset='level_choice')"
   ]
  },
  {
   "cell_type": "code",
   "execution_count": 28,
   "metadata": {},
   "outputs": [
    {
     "name": "stdout",
     "output_type": "stream",
     "text": [
      "Процент игроков, вернувшихся к обучению: 16.6%\n"
     ]
    }
   ],
   "source": [
    "# инициализируем маску отбора вернувшихся к обучению для сводной таблицы\n",
    "musk_C = pvt_bak2skul['tutorial_start'] > pvt_bak2skul['level_choice']\n",
    "\n",
    "# рассчитываем показатель возвращаемости к обучению\n",
    "bak2skulers_ratio = len(pvt_bak2skul[musk_C]) / len(pvt_bak2skul)\n",
    "print('Процент игроков, вернувшихся к обучению: {:.1%}'.format(bak2skulers_ratio))"
   ]
  },
  {
   "attachments": {},
   "cell_type": "markdown",
   "metadata": {},
   "source": [
    "## 6. Общие выводы"
   ]
  },
  {
   "attachments": {},
   "cell_type": "markdown",
   "metadata": {},
   "source": [
    "Влияние процесса обучения на игровой процесс в **Quiz Freeze** обнаружено значительным в контексте лояльности пользователей. *Обученные игроки \"быстрее достают деньги\" на платный контент*. Видится разумным стимулирование прохождения обучения игроками.\n",
    "\n",
    "С другой стороны, имеются определенные проблемы с игровым процессом. Ряд пользователей (16,6%) возвращается к обучению. А, согласно полученным данным, этот возврат крайне негативно влияет на лояльность пользователей. Приблизительно, каждый шестой возвращается к обучению и только один из шести вернувшихся купит дополнительные вопросы. *Для значительной доли игроков игровой процесс непонятен, что ухудшает конверсию*.\n",
    "\n",
    "Также стоит обратить внимание на сам процесс обучения. Он негативно влияет на вовлеченность игроков, поскольку отдаляет время начала игры, что несет риск утраты интереса. Помимо ревизии прозрачности игрового процесса, рекомендуется также провести аудит эргономики процесса обучения пользователей."
   ]
  }
 ],
 "metadata": {
  "kernelspec": {
   "display_name": "Python 3",
   "language": "python",
   "name": "python3"
  },
  "language_info": {
   "codemirror_mode": {
    "name": "ipython",
    "version": 3
   },
   "file_extension": ".py",
   "mimetype": "text/x-python",
   "name": "python",
   "nbconvert_exporter": "python",
   "pygments_lexer": "ipython3",
   "version": "3.12.7"
  },
  "orig_nbformat": 4
 },
 "nbformat": 4,
 "nbformat_minor": 2
}
